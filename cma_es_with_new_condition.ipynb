{
  "nbformat": 4,
  "nbformat_minor": 0,
  "metadata": {
    "colab": {
      "provenance": [],
      "authorship_tag": "ABX9TyMcFGTYxwdQ2pnSY5GmwZ2W",
      "include_colab_link": true
    },
    "kernelspec": {
      "name": "python3",
      "display_name": "Python 3"
    },
    "language_info": {
      "name": "python"
    }
  },
  "cells": [
    {
      "cell_type": "markdown",
      "metadata": {
        "id": "view-in-github",
        "colab_type": "text"
      },
      "source": [
        "<a href=\"https://colab.research.google.com/github/shuiyuedongtian123/cma-es-lin-/blob/main/cma_es_with_new_condition.ipynb\" target=\"_parent\"><img src=\"https://colab.research.google.com/assets/colab-badge.svg\" alt=\"Open In Colab\"/></a>"
      ]
    },
    {
      "cell_type": "code",
      "execution_count": 37,
      "metadata": {
        "colab": {
          "base_uri": "https://localhost:8080/"
        },
        "id": "EH3gunxll7Pn",
        "outputId": "3fe8c2e1-734b-4b49-9046-7dc602af75dd"
      },
      "outputs": [
        {
          "output_type": "stream",
          "name": "stdout",
          "text": [
            "Looking in indexes: https://pypi.org/simple, https://us-python.pkg.dev/colab-wheels/public/simple/\n",
            "Requirement already satisfied: deap in /usr/local/lib/python3.10/dist-packages (1.3.3)\n",
            "Requirement already satisfied: numpy in /usr/local/lib/python3.10/dist-packages (from deap) (1.22.4)\n"
          ]
        }
      ],
      "source": [
        "pip install deap"
      ]
    },
    {
      "cell_type": "code",
      "source": [
        "from collections import deque\n",
        "\n",
        "import numpy as np\n",
        "import numpy\n",
        "from deap import algorithms\n",
        "from deap import base\n",
        "from deap import benchmarks\n",
        "from deap import cma\n",
        "from deap import creator\n",
        "from deap import tools\n",
        "import random\n",
        "\n",
        "MIN_BOUND = [-1, -1, -1, -1, -1]\n",
        "MAX_BOUND = [1, 1, 1, 1, 1]\n",
        "EPS_BOUND = 2.e-5\n",
        "\n",
        "def distance(feasible_ind, original_ind):\n",
        "    \"\"\"A distance function to the feasibility region.\"\"\"\n",
        "    return sum((f - o)**2 for f, o in zip(feasible_ind, original_ind))\n",
        "\n",
        "def closest_feasible(individual):\n",
        "    \"\"\"A function returning a valid individual from an invalid one.\"\"\"\n",
        "    feasible_ind = numpy.array(individual)\n",
        "    feasible_ind = numpy.maximum(MIN_BOUND, feasible_ind)\n",
        "    feasible_ind = numpy.minimum(MAX_BOUND, feasible_ind)\n",
        "    return feasible_ind\n",
        "\n",
        "def valid(individual):\n",
        "    \"\"\"Determines if the individual is valid or not.\"\"\"\n",
        "    if any(individual < np.array(MIN_BOUND)) or any(individual > np.array(MAX_BOUND)):\n",
        "        return False\n",
        "    return True\n",
        "\n",
        "def close_valid(individual):\n",
        "    \"\"\"Determines if the individual is close to valid.\"\"\"\n",
        "    if any(individual < np.array(MIN_BOUND)-EPS_BOUND) or any(individual > np.array(MAX_BOUND)+EPS_BOUND):\n",
        "        return False\n",
        "    return True\n",
        "\n",
        "def get_ind(low, up):\n",
        "  use = []\n",
        "  for i in range(len(low)):\n",
        "    use.append(numpy.random.uniform(low[i], up[i]))\n",
        "  return use\n",
        "\n",
        "def get_ind_valid(low, up, population):\n",
        "  use = []\n",
        "  for i in range(len(population)):\n",
        "    feasible_ind = numpy.array(population[i])\n",
        "    feasible_ind = numpy.maximum(numpy.array(low), feasible_ind)\n",
        "    feasible_ind = numpy.minimum(numpy.array(up), feasible_ind)\n",
        "    use.append(feasible_ind)\n",
        "  return use\n",
        "\n",
        "# Problem size\n",
        "N = 5\n",
        "\n",
        "creator.create(\"FitnessMin\", base.Fitness, weights=(-1.0,))\n",
        "creator.create(\"Individual\", list, fitness=creator.FitnessMin)\n",
        "\n",
        "\n",
        "low = [-1, -1, -1, -1, -1]\n",
        "up = [1, 1, 1, 1, 1]\n",
        "toolbox = base.Toolbox()\n",
        "toolbox.register(\"getInd\", get_ind, low, up)\n",
        "toolbox.register(\"getIndVaild\", get_ind_valid, low, up)\n",
        "toolbox.register(\"evaluate\", benchmarks.rastrigin)\n",
        "#toolbox.decorate(\"evaluate\", tools.ClosestValidPenalty(valid, closest_feasible, 1.0, distance))\n",
        "stats = tools.Statistics(lambda ind: ind.fitness.values)\n",
        "stats.register(\"min\", numpy.min, axis=0)\n",
        "stats.register(\"max\", numpy.max, axis=0)\n",
        "logbook = tools.Logbook()\n",
        "logbook.header = [\"gen\", \"min\", \"max\"] \n"
      ],
      "metadata": {
        "id": "H5GKQnKImjVr",
        "colab": {
          "base_uri": "https://localhost:8080/"
        },
        "outputId": "0da0dc72-b020-47ef-c31c-a1a73654d115"
      },
      "execution_count": 38,
      "outputs": [
        {
          "output_type": "stream",
          "name": "stderr",
          "text": [
            "/usr/local/lib/python3.10/dist-packages/deap/creator.py:138: RuntimeWarning: A class named 'FitnessMin' has already been created and it will be overwritten. Consider deleting previous creation of that class or rename it.\n",
            "  warnings.warn(\"A class named '{0}' has already been created and it \"\n",
            "/usr/local/lib/python3.10/dist-packages/deap/creator.py:138: RuntimeWarning: A class named 'Individual' has already been created and it will be overwritten. Consider deleting previous creation of that class or rename it.\n",
            "  warnings.warn(\"A class named '{0}' has already been created and it \"\n"
          ]
        }
      ]
    },
    {
      "cell_type": "code",
      "source": [
        "def main():\n",
        "    strategy = cma.Strategy(centroid=toolbox.getInd(), sigma=1.0)\n",
        "    toolbox.register(\"generate\", strategy.generate, creator.Individual)\n",
        "    toolbox.register(\"update\", strategy.update)\n",
        "\n",
        "    for gen in range(5):\n",
        "        # Generate a new population\n",
        "        population = toolbox.generate()\n",
        "        #print(\"population: \",population)\n",
        "        getIndVailds = toolbox.getIndVaild(population)\n",
        "        #print(\"getIndVailds: \",getIndVailds)\n",
        "        populations = [creator.Individual(x) for x in getIndVailds]\n",
        "        \n",
        "        # Evaluate the individuals\n",
        "        fitnesses = toolbox.map(toolbox.evaluate, populations)\n",
        "        for ind, fit in zip(populations, fitnesses):\n",
        "            ind.fitness.values = fit\n",
        "        record = stats.compile(populations)\n",
        "        logbook.record(gen=gen, nevals=len(population), **record)\n",
        "        print(logbook.stream)\n",
        "        best = tools.selBest(population,1)[0]\n",
        "    print(\"best\",best)\n",
        "    print(\"best_val\",toolbox.evaluate(best))\n"
      ],
      "metadata": {
        "id": "rYpNHBhXrH8R"
      },
      "execution_count": 39,
      "outputs": []
    },
    {
      "cell_type": "code",
      "source": [
        "if __name__ == \"__main__\":\n",
        "    solutions = main()"
      ],
      "metadata": {
        "colab": {
          "base_uri": "https://localhost:8080/"
        },
        "id": "1__8Rx8prIPS",
        "outputId": "f83c18fb-ed49-4183-8f48-3b0eb426b7c1"
      },
      "execution_count": 40,
      "outputs": [
        {
          "output_type": "stream",
          "name": "stdout",
          "text": [
            "gen\tmin          \tmax          \n",
            "0  \t[22.56473411]\t[54.81164008]\n",
            "1  \t[20.39643486]\t[50.37000771]\n",
            "2  \t[28.99373027]\t[65.56092835]\n",
            "3  \t[8.10267679] \t[64.52933104]\n",
            "4  \t[11.91367079]\t[56.23778788]\n",
            "best [-1.4430322210716933, 0.8818942212099359, 0.827371146293927, -0.3132594451193559, 0.10925498728881444]\n",
            "best_val (47.114105866229515,)\n"
          ]
        }
      ]
    },
    {
      "cell_type": "code",
      "source": [
        "toolbox.decorate(\"evaluate\", tools.ClosestValidPenalty(valid, closest_feasible,2, distance))\n",
        "def main():\n",
        "    strategy = cma.Strategy(centroid=toolbox.getInd(), sigma=1.0)\n",
        "    toolbox.register(\"generate\", strategy.generate, creator.Individual)\n",
        "    toolbox.register(\"update\", strategy.update)\n",
        "\n",
        "    for gen in range(5):\n",
        "        population = toolbox.generate()\n",
        "        # Evaluate the individuals\n",
        "        fitnesses = toolbox.map(toolbox.evaluate, population)\n",
        "        for ind, fit in zip(population, fitnesses):\n",
        "            ind.fitness.values = fit\n",
        "        record = stats.compile(population)\n",
        "        logbook.record(gen=gen, nevals=len(population), **record)\n",
        "        print(logbook.stream)\n",
        "    best = tools.selBest(population,1)[0]\n",
        "    print(\"best\",best)\n",
        "    print(\"best_val\",toolbox.evaluate(best))\n",
        "\n",
        "if __name__ == \"__main__\":\n",
        "    solutions = main()"
      ],
      "metadata": {
        "colab": {
          "base_uri": "https://localhost:8080/"
        },
        "id": "jd1ITxckJgSk",
        "outputId": "a1030e23-4fb6-46be-dc0b-c3a63439bd75"
      },
      "execution_count": 41,
      "outputs": [
        {
          "output_type": "stream",
          "name": "stdout",
          "text": [
            "0  \t[7.75083428] \t[65.57076179]\n",
            "1  \t[20.09510234]\t[52.07875044]\n",
            "2  \t[8.12651007] \t[50.06655111]\n",
            "3  \t[25.6366362] \t[57.94808137]\n",
            "4  \t[8.17738627] \t[59.83846911]\n",
            "best [1.5910803408039447, 1.2157046865032006, -1.9843382293855147, 0.9728260626095173, -1.4218638258846403]\n",
            "best_val (8.177386267812231,)\n"
          ]
        }
      ]
    },
    {
      "cell_type": "code",
      "source": [
        "toolbox.decorate(\"evaluate\", tools.ClosestValidPenalty(valid, closest_feasible,0.1, distance))\n",
        "def main():\n",
        "    strategy = cma.Strategy(centroid=toolbox.getInd(), sigma=1.0)\n",
        "    toolbox.register(\"generate\", strategy.generate, creator.Individual)\n",
        "    toolbox.register(\"update\", strategy.update)\n",
        "\n",
        "    for gen in range(10):\n",
        "        population = toolbox.generate()\n",
        "        # Evaluate the individuals\n",
        "        fitnesses = toolbox.map(toolbox.evaluate, population)\n",
        "        for ind, fit in zip(population, fitnesses):\n",
        "            ind.fitness.values = fit\n",
        "        record = stats.compile(population)\n",
        "        logbook.record(gen=gen, nevals=len(population), **record)\n",
        "        print(logbook.stream)\n",
        "    best = tools.selBest(population,1)[0]\n",
        "    print(\"best\",best)\n",
        "    print(\"best_val\",toolbox.evaluate(best))\n",
        "\n",
        "if __name__ == \"__main__\":\n",
        "    solutions = main()"
      ],
      "metadata": {
        "colab": {
          "base_uri": "https://localhost:8080/"
        },
        "id": "x2OxKbJ3a-RE",
        "outputId": "73747765-8427-460f-fd39-0d168f5391b9"
      },
      "execution_count": 43,
      "outputs": [
        {
          "output_type": "stream",
          "name": "stdout",
          "text": [
            "0  \t[21.14520591]\t[72.93945122]\n",
            "1  \t[5.51240676] \t[47.25035463]\n",
            "2  \t[5.60370357] \t[65.65165779]\n",
            "3  \t[27.34085283]\t[78.63763131]\n",
            "4  \t[35.84904438]\t[62.46345513]\n",
            "5  \t[28.18366613]\t[62.23394979]\n",
            "6  \t[9.08635625] \t[76.46080834]\n",
            "7  \t[5.58175702] \t[73.2556438] \n",
            "8  \t[4.85853843] \t[46.17632109]\n",
            "9  \t[14.09754167]\t[67.32993867]\n",
            "best [-0.05144950813599075, -1.2252172826175787, 1.4336177861944943, 1.2586199876032103, 0.25764204480012004]\n",
            "best_val (14.097541666322357,)\n"
          ]
        }
      ]
    }
  ]
}